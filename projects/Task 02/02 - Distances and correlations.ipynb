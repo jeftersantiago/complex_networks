{
  "nbformat": 4,
  "nbformat_minor": 0,
  "metadata": {
    "colab": {
      "provenance": []
    },
    "kernelspec": {
      "name": "python3",
      "display_name": "Python 3"
    },
    "language_info": {
      "name": "python"
    }
  },
  "cells": [
    {
      "cell_type": "markdown",
      "source": [
        "# Network Structure: Distances and correlations\n",
        " Jefter Santiago Mares \\\\\n",
        " jefter@usp.br \\\\\n",
        " nº USP: 12559016 \n"
      ],
      "metadata": {
        "id": "UZQ21i6dFBka"
      }
    },
    {
      "cell_type": "code",
      "execution_count": 1,
      "metadata": {
        "id": "-w5my0GpChhU",
        "colab": {
          "base_uri": "https://localhost:8080/"
        },
        "outputId": "5cbaf162-2203-4796-947f-332c759f8e09"
      },
      "outputs": [
        {
          "output_type": "stream",
          "name": "stdout",
          "text": [
            "Mounted at /content/drive\n"
          ]
        }
      ],
      "source": [
        "from google.colab import drive\n",
        "drive.mount('/content/drive')"
      ]
    },
    {
      "cell_type": "code",
      "source": [
        "import networkx as nx\n",
        "import matplotlib.pyplot as plt\n",
        "import numpy as np\n",
        "import math\n",
        "from scipy.stats import pearsonr"
      ],
      "metadata": {
        "id": "RnL8IeiN2TOA"
      },
      "execution_count": 79,
      "outputs": []
    },
    {
      "cell_type": "code",
      "source": [
        "def setup_graph(g):\n",
        "  print(\"Original Network\")\n",
        "  print(\"Nº of nodes: \", len(g))\n",
        "  print(\"Nº of edges: \", g.number_of_edges())\n",
        "  \n",
        "  g = g.to_undirected()\n",
        "  g.remove_edges_from(nx.selfloop_edges(g))\n",
        "\n",
        "  print(\"Biggest connected component\")\n",
        "  gcc = sorted(nx.connected_components(g), key=len, reverse=True)\n",
        "  g = g.subgraph(gcc[0])\n",
        "  print(\"Nº of nodes: \", len(g))\n",
        "  print(\"Nº of edges: \", g.number_of_edges())\n",
        "\n",
        "  return g"
      ],
      "metadata": {
        "id": "28AKn0s2SzPJ"
      },
      "execution_count": 41,
      "outputs": []
    },
    {
      "cell_type": "markdown",
      "source": [
        "# 1 - Average shortest path length and network diameter - `Hamsterster` Network"
      ],
      "metadata": {
        "id": "bwTq4lvpFBqx"
      }
    },
    {
      "cell_type": "code",
      "source": [
        "g = nx.read_edgelist(\"/content/drive/MyDrive/Colab Notebooks/Complex Networks/Project 2/data/hamsterster.txt\", nodetype=int)"
      ],
      "metadata": {
        "id": "ArirP6_kFBvu"
      },
      "execution_count": 47,
      "outputs": []
    },
    {
      "cell_type": "markdown",
      "source": [
        "If the graph is connected, then i calculate the shortest path lengths. If not i'll do it for the biggest connected component."
      ],
      "metadata": {
        "id": "b1_MtDbeL295"
      }
    },
    {
      "cell_type": "code",
      "source": [
        "g = setup_graph(g)"
      ],
      "metadata": {
        "colab": {
          "base_uri": "https://localhost:8080/"
        },
        "id": "etGcPSMVWsOo",
        "outputId": "4596513f-b959-4bea-8b07-89e60a338e64"
      },
      "execution_count": 52,
      "outputs": [
        {
          "output_type": "stream",
          "name": "stdout",
          "text": [
            "Original Network\n",
            "Nº of nodes:  1788\n",
            "Nº of edges:  12476\n",
            "Biggest connected component\n",
            "Nº of nodes:  1788\n",
            "Nº of edges:  12476\n"
          ]
        }
      ]
    },
    {
      "cell_type": "code",
      "source": [
        "l = nx.average_shortest_path_length(g)\n",
        "print(\"Average shortest path length: \", \"%3.4f\"%l)\n",
        "\n",
        "d = nx.diameter(g)\n",
        "print('Network diameter:', d)"
      ],
      "metadata": {
        "colab": {
          "base_uri": "https://localhost:8080/"
        },
        "id": "zssu3uUd3-yD",
        "outputId": "e4f01530-13cc-46a2-971b-2f617e6b1d16"
      },
      "execution_count": 53,
      "outputs": [
        {
          "output_type": "stream",
          "name": "stdout",
          "text": [
            "Average shortest path length:  3.4526\n",
            "Network diameter: 14\n"
          ]
        }
      ]
    },
    {
      "cell_type": "markdown",
      "source": [
        "# 2 - Mean and variance of shortest distances - `USairport500` Network"
      ],
      "metadata": {
        "id": "LMSz4Pez4qZU"
      }
    },
    {
      "cell_type": "code",
      "source": [
        "g = nx.read_edgelist(\"/content/drive/MyDrive/Colab Notebooks/Complex Networks/Project 2/data/USairport500.txt\", nodetype=int)"
      ],
      "metadata": {
        "id": "R354ZKuXMwD1"
      },
      "execution_count": 57,
      "outputs": []
    },
    {
      "cell_type": "code",
      "source": [
        "g = setup_graph(g)"
      ],
      "metadata": {
        "id": "BDRnIjnkPI2a",
        "colab": {
          "base_uri": "https://localhost:8080/"
        },
        "outputId": "93761cd8-a6e9-44a7-a8d3-e33654d70b90"
      },
      "execution_count": 58,
      "outputs": [
        {
          "output_type": "stream",
          "name": "stdout",
          "text": [
            "Original Network\n",
            "Nº of nodes:  500\n",
            "Nº of edges:  2980\n",
            "Biggest connected component\n",
            "Nº of nodes:  500\n",
            "Nº of edges:  2980\n"
          ]
        }
      ]
    },
    {
      "cell_type": "code",
      "source": [
        "plt.figure(figsize=(10, 8))\n",
        "plt.title(\"Biggest connected component\")\n",
        "pos = nx.spring_layout(g)\n",
        "nx.draw(g, pos, node_color=\"Black\",font_color=\"b\",edge_color=\"Black\", font_size=1, node_size=700, with_labels = False)"
      ],
      "metadata": {
        "colab": {
          "base_uri": "https://localhost:8080/",
          "height": 675
        },
        "id": "tFQ8mVsZPHBH",
        "outputId": "b656aba6-34ea-4482-84a5-c49a269864a0"
      },
      "execution_count": 59,
      "outputs": [
        {
          "output_type": "display_data",
          "data": {
            "text/plain": [
              "<Figure size 1000x800 with 1 Axes>"
            ],
            "image/png": "[encoded data removed]"
          },
          "metadata": {}
        }
      ]
    },
    {
      "cell_type": "code",
      "source": [
        "avg = nx.average_shortest_path_length(g)\n",
        "print(\"Average shortest path length: \", avg)"
      ],
      "metadata": {
        "colab": {
          "base_uri": "https://localhost:8080/"
        },
        "id": "sw-Sjt6zPgT8",
        "outputId": "a616a4d8-32ca-4d27-a8f9-f73c1b759280"
      },
      "execution_count": 60,
      "outputs": [
        {
          "output_type": "stream",
          "name": "stdout",
          "text": [
            "Average shortest path length:  2.9910300601202406\n"
          ]
        }
      ]
    },
    {
      "cell_type": "markdown",
      "source": [
        "Generating the shortest distances using the `Floyd-Warshall` algorithm and calculating the mean and variance of it."
      ],
      "metadata": {
        "id": "a8BaBBTRsiQl"
      }
    },
    {
      "cell_type": "code",
      "source": [
        "X = np.array(nx.floyd_warshall_numpy(g))\n",
        "Y = []\n",
        "# Appends the values from the upper triangle of the \n",
        "# distances matrix.\n",
        "for i in range(len(X)):\n",
        "  for j in range(i+1, len(X)):\n",
        "    Y.append(X[i][j])\n",
        "\n",
        "print(\"Mean = \", \"%1.2f\"%np.mean(Y))\n",
        "print(\"Variance = \", \"%1.2f\"% np.var(Y))"
      ],
      "metadata": {
        "id": "MFXvHvRnoVW3",
        "colab": {
          "base_uri": "https://localhost:8080/"
        },
        "outputId": "cae94b3a-2c4b-4cdf-db48-c7bfc73ab4f3"
      },
      "execution_count": 61,
      "outputs": [
        {
          "output_type": "stream",
          "name": "stdout",
          "text": [
            "Mean =  2.99\n",
            "Variance =  0.82\n"
          ]
        }
      ]
    },
    {
      "cell_type": "markdown",
      "source": [
        "# 3 - Assortativity coefficient - `Advogato` Network"
      ],
      "metadata": {
        "id": "8pUYej38SUJf"
      }
    },
    {
      "cell_type": "code",
      "source": [
        "g = nx.read_edgelist(\"/content/drive/MyDrive/Colab Notebooks/Complex Networks/Project 2/data/advogato.txt\", nodetype=int)\n",
        "g = setup_graph(g)"
      ],
      "metadata": {
        "colab": {
          "base_uri": "https://localhost:8080/"
        },
        "id": "8dsYJrssXljJ",
        "outputId": "6f7f9aa0-40d9-4929-e25a-a3e88cc4678f"
      },
      "execution_count": 62,
      "outputs": [
        {
          "output_type": "stream",
          "name": "stdout",
          "text": [
            "Original Network\n",
            "Nº of nodes:  6539\n",
            "Nº of edges:  43277\n",
            "Biggest connected component\n",
            "Nº of nodes:  5042\n",
            "Nº of edges:  39227\n"
          ]
        }
      ]
    },
    {
      "cell_type": "code",
      "source": [
        "r = nx.degree_assortativity_coefficient(g)\n",
        "print(\"Assortativity = \",\"%3.4f\"%r)"
      ],
      "metadata": {
        "colab": {
          "base_uri": "https://localhost:8080/"
        },
        "id": "wdReLX71X3Tk",
        "outputId": "1de084ee-50c1-482c-d9a3-ec877a4b57d7"
      },
      "execution_count": 65,
      "outputs": [
        {
          "output_type": "stream",
          "name": "stdout",
          "text": [
            "Assortativity =  -0.0957\n"
          ]
        }
      ]
    },
    {
      "cell_type": "markdown",
      "source": [
        "# 4 - Shannon entropy for shotest paths lengths - `USairport500` Network\n"
      ],
      "metadata": {
        "id": "_wSgvWkdYf9k"
      }
    },
    {
      "cell_type": "code",
      "source": [
        "g = nx.read_edgelist(\"/content/drive/MyDrive/Colab Notebooks/Complex Networks/Project 2/data/USairport500.txt\", nodetype=int)\n",
        "g = setup_graph(g)"
      ],
      "metadata": {
        "colab": {
          "base_uri": "https://localhost:8080/"
        },
        "id": "THIuD1BFYrtv",
        "outputId": "dbf88dbf-148e-4691-e5a2-b6cd31b339b6"
      },
      "execution_count": 68,
      "outputs": [
        {
          "output_type": "stream",
          "name": "stdout",
          "text": [
            "Original Network\n",
            "Nº of nodes:  500\n",
            "Nº of edges:  2980\n",
            "Biggest connected component\n",
            "Nº of nodes:  500\n",
            "Nº of edges:  2980\n"
          ]
        }
      ]
    },
    {
      "cell_type": "code",
      "source": [
        "path = dict(nx.shortest_path_length(g))\n",
        "path = np.bincount([length for source in path for length in path[source].values()])\n",
        "\n",
        "Pk = path / sum(path)\n",
        "H = 0 \n",
        "for p in Pk:\n",
        "  if(p > 0):\n",
        "    H = H - p * math.log(p, 2)\n",
        "\n",
        "print(\"SHannon entropy of the shortest paths = \", \"%1.2f\"%H)"
      ],
      "metadata": {
        "colab": {
          "base_uri": "https://localhost:8080/"
        },
        "id": "6RdLbqUKZTGi",
        "outputId": "d6d37bcc-f87a-4989-8221-1b94a9fbcdf6"
      },
      "execution_count": 78,
      "outputs": [
        {
          "output_type": "stream",
          "name": "stdout",
          "text": [
            "SHannon entropy of the shortest paths =  1.90\n"
          ]
        }
      ]
    },
    {
      "cell_type": "markdown",
      "source": [
        "# 5 - Pearson correlation coefficient of the mean degree from k-nearest neighbors - `word_adjacencies` Network"
      ],
      "metadata": {
        "id": "vWFnAbebaiEL"
      }
    },
    {
      "cell_type": "code",
      "source": [
        "g = nx.read_edgelist(\"/content/drive/MyDrive/Colab Notebooks/Complex Networks/Project 2/data/word_adjacencies.txt\", nodetype=int)\n",
        "g = setup_graph(g)"
      ],
      "metadata": {
        "colab": {
          "base_uri": "https://localhost:8080/"
        },
        "id": "pMDuKy0qbFRF",
        "outputId": "5726411b-a41d-4354-b3c2-5e87fc563d08"
      },
      "execution_count": 81,
      "outputs": [
        {
          "output_type": "stream",
          "name": "stdout",
          "text": [
            "Original Network\n",
            "Nº of nodes:  112\n",
            "Nº of edges:  425\n",
            "Biggest connected component\n",
            "Nº of nodes:  112\n",
            "Nº of edges:  425\n"
          ]
        }
      ]
    },
    {
      "cell_type": "code",
      "source": [
        "knn = list(nx.average_neighbor_degree(g).values())\n",
        "knn = np.array(knn)\n",
        "\n",
        "vk = dict(g.degree())\n",
        "vk = list(vk.values())\n",
        "\n",
        "knnk = list()\n",
        "ks = list()\n",
        "for k in np.arange(np.min(vk), np.max(vk)+1):\n",
        "    aux = vk == k\n",
        "    if(len(knn[aux]) > 0):\n",
        "        #average clustering among all the nodes with degree k\n",
        "        av_knn = np.mean(knn[aux]) \n",
        "        knnk.append(av_knn)\n",
        "        ks.append(k)\n",
        "\n",
        "corr, _ = pearsonr(ks, knnk)\n",
        "print(\"Pearsons correlation =\", \"%1.3f\"%corr)"
      ],
      "metadata": {
        "colab": {
          "base_uri": "https://localhost:8080/"
        },
        "id": "A-4vG9uWa3EU",
        "outputId": "8b2ab936-67db-4877-c0e0-4b3b6fc04683"
      },
      "execution_count": 90,
      "outputs": [
        {
          "output_type": "stream",
          "name": "stdout",
          "text": [
            "Pearsons correlation = -0.711\n"
          ]
        }
      ]
    }
  ]
}